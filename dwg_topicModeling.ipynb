{
 "cells": [
  {
   "cell_type": "code",
   "execution_count": 1,
   "metadata": {},
   "outputs": [],
   "source": [
    "import numpy as np\n",
    "import pandas as pd\n",
    "import re, nltk, spacy, gensim\n",
    "import requests\n",
    "from bs4 import BeautifulSoup\n",
    "\n",
    "# Sklearn\n",
    "from sklearn.decomposition import LatentDirichletAllocation, TruncatedSVD\n",
    "from sklearn.feature_extraction.text import CountVectorizer, TfidfVectorizer\n",
    "from sklearn.model_selection import GridSearchCV\n",
    "from pprint import pprint\n",
    "\n",
    "# Plotting tools\n",
    "import pyLDAvis\n",
    "import pyLDAvis.sklearn\n",
    "import matplotlib.pyplot as plt\n",
    "%matplotlib inline"
   ]
  },
  {
   "cell_type": "code",
   "execution_count": 3,
   "metadata": {},
   "outputs": [],
   "source": [
    "url = 'https://delwatergap.net/Lyrics-1'\n",
    "page = requests.get(url).content"
   ]
  },
  {
   "cell_type": "code",
   "execution_count": 4,
   "metadata": {},
   "outputs": [],
   "source": [
    "bs = BeautifulSoup(page)"
   ]
  },
  {
   "cell_type": "code",
   "execution_count": 34,
   "metadata": {},
   "outputs": [],
   "source": [
    "a = bs.find('div',attrs={'class':'page_content clearfix'}).find_all('a')[1:]\n",
    "hrefs = [x['href'] for x in a]"
   ]
  },
  {
   "cell_type": "code",
   "execution_count": 141,
   "metadata": {},
   "outputs": [],
   "source": [
    "hrefs.remove('High-Tops-Stripped')"
   ]
  },
  {
   "cell_type": "code",
   "execution_count": 142,
   "metadata": {},
   "outputs": [],
   "source": [
    "song_urls = ['https://delwatergap.net/'+href for href in hrefs]"
   ]
  },
  {
   "cell_type": "code",
   "execution_count": 143,
   "metadata": {},
   "outputs": [
    {
     "data": {
      "text/plain": [
       "['https://delwatergap.net/Be-My-Own-Bonus-Track',\n",
       " 'https://delwatergap.net/Chastain',\n",
       " 'https://delwatergap.net/Cut-The-Rope',\n",
       " 'https://delwatergap.net/Deirdre-Pt-I',\n",
       " 'https://delwatergap.net/Don-t-Let-Me',\n",
       " 'https://delwatergap.net/Don-t-Read-The-Mirror',\n",
       " 'https://delwatergap.net/Don-t-Say-Nothing',\n",
       " 'https://delwatergap.net/High-Tops',\n",
       " 'https://delwatergap.net/Homeless',\n",
       " 'https://delwatergap.net/I-Am-Drunk-And-She-Is-Insane',\n",
       " 'https://delwatergap.net/In-The-Yard',\n",
       " 'https://delwatergap.net/Laid-Down-My-Arms',\n",
       " 'https://delwatergap.net/Lamplight',\n",
       " 'https://delwatergap.net/Let-s-Pretend',\n",
       " 'https://delwatergap.net/Lost-My-Cat-Put-in-a-Cage',\n",
       " 'https://delwatergap.net/Love-Song-For-Lady-Earth-Sasha',\n",
       " 'https://delwatergap.net/Rockman-s-Pier',\n",
       " 'https://delwatergap.net/Theory-of-Emotion',\n",
       " 'https://delwatergap.net/To-Philly',\n",
       " 'https://delwatergap.net/Still-in-Love',\n",
       " 'https://delwatergap.net/Vanessa']"
      ]
     },
     "execution_count": 143,
     "metadata": {},
     "output_type": "execute_result"
    }
   ],
   "source": [
    "song_urls"
   ]
  },
  {
   "cell_type": "code",
   "execution_count": 144,
   "metadata": {},
   "outputs": [],
   "source": [
    "lyrics = []\n",
    "for song in song_urls:\n",
    "    lyrics.append([x.get_text().replace('\\n',' ').replace('\\u2028', ' ') for x in BeautifulSoup(requests.get(song).content).find_all('h2')])"
   ]
  },
  {
   "cell_type": "code",
   "execution_count": 145,
   "metadata": {},
   "outputs": [
    {
     "name": "stdout",
     "output_type": "stream",
     "text": [
      "['we', 'never', 'sleep', 'at', 'night', 'but', 'we', 'll', 'spend', 'the', 'days', 'in', 'bed', 'and', 'you', 'walk', 'down', 'the', 'stairs', 'ever', 'so', 'gingerly', 'could', 've', 'lived', 'but', 'chose', 'to', 'love', 'you', 'instead', 'fix', 'me', 'your', 'poison', 'gin', 'for', 'your', 'molly', 'lime', 'for', 'your', 'bruises', 'and', 'chalk', 'for', 'your', 'holly', 'tell', 'me', 'you', 're', 'sleeping', 'can', 'if', 'you', 'won', 'yeah', 'you', 'could', 'be', 'my', 'own', 'the', 'way', 'that', 'you', 'smile', 'when', 'something', 'pleasant', 'is', 'up', 'in', 'your', 'mind', 'and', 'you', 'put', 'your', 'tiny', 'lips', 'to', 'my', 'ear', 'we', 'could', 'break', 'this', 'old', 'routine', 'this', 'apartment', 'you', 'and', 'me', 'we', 'could', 'leave', 'this', 'town', 'my', 'dear', 'rats', 'in', 'your', 'armchair', 'burrs', 'in', 'your', 'cotton', 'baby', 'turn', 'my', 'engines', 'from', 'polished', 'to', 'rotten', 'promise', 'you', 'll', 'keep', 'me', 'in', 'box', 'by', 'the', 'phone', 'yeah', 'you', 'could', 'be', 'my', 'own', 'would', 'you', 'burn', 'all', 'the', 'crows', 'in', 'my', 'fields', 'sing', 'me', 'to', 'sleep', 'you', 'won', 'ever', 'have', 'to', 'walk', 'cause', 'my', 'cars', 'just', 'down', 'the', 'blockand', 'japan', 'only', 'two', 'weeks', 'away', 'if', 'you', 'travel', 'by', 'sea', 'love', 'where', 'you', 'moving', 'heart', 'where', 'you', 'going', 'your', 'clothes', 'on', 'the', 'floor', 'yeah', 'your', 'bruises', 'are', 'showing', 'airplanes', 'can', 'take', 'you', 'to', 'paris', 'or', 'rome', 'but', 'you', 'll', 'still', 'be', 'my', 'own', 'bells', 'in', 'the', 'boathouse', 'champagne', 'and', 'icing', 'it', 'just', 'like', 'the', 'movies', 'yeah', 'your', 'parents', 'are', 'crying', 'our', 'family', 'all', 'gathered', 'but', 'we', 're', 'getting', 'stoned', 'yeah', 'you', 'could', 'be', 'my', 'own', 'left', 'all', 'her', 'pictures', 'in', 'box', 'by', 'the', 'road', 'so', 'you', 'could', 'be', 'my', 'own']\n"
     ]
    }
   ],
   "source": [
    "def sent_to_words(sentences):\n",
    "    for sentence in sentences:\n",
    "        yield(gensim.utils.simple_preprocess(str(sentence), deacc=True))  # deacc=True removes punctuations\n",
    "\n",
    "data_words = [x[:-2] for x in list(sent_to_words(lyrics))]\n",
    "\n",
    "print(data_words[0])"
   ]
  },
  {
   "cell_type": "code",
   "execution_count": 146,
   "metadata": {},
   "outputs": [
    {
     "name": "stdout",
     "output_type": "stream",
     "text": [
      "['never sleep night will spend day bed walk stair ever so gingerly could ve live choose love instead fix poison gin molly lime bruise chalk holly tell re sleep can win could own way smile when pleasant up mind put tiny lip ear could break old routine apartment could leave town dear rat armchair burr cotton baby turn engine polished rotten promise will keep box phone could own would burn crow field sing sleep win ever walk cause car just blockand only week away travel sea love where move heart where go clothe floor bruise show airplane can take will still own bell boathouse champagne ice just movie parent cry family gather re get stone could own left picture box road could own', 'just day will look get mistake man job take session lunch break win believe apartment will cost live right freeway watch tv dollar store sock get much day convince been talk too much picture hour replay pretty lonely just write song when know friend move away just see picture mom when age as hard think happy day sleep get pay subway run late leave rest question just find ain get make weather ain bad floss take bath leave rest question just find hardly ever laugh man just be type forget embarrassing montage see picture when kid beach brother ghost when dead think tire jump scare sit quiet foot bed watch cry top stair work pay rent thinking bout ex leave rest question just find get leave fall back love take too many drug leave rest question just find ain young enough when feel sad just remember get song hide behind feeling pass ain much life maybe once twice feel magic touching pen paper time']\n"
     ]
    }
   ],
   "source": [
    "def lemmatization(texts, allowed_postags=['NOUN', 'ADJ', 'VERB', 'ADV']):\n",
    "    \"\"\"https://spacy.io/api/annotation\"\"\"\n",
    "    texts_out = []\n",
    "    for sent in texts:\n",
    "        doc = nlp(\" \".join(sent)) \n",
    "        texts_out.append(\" \".join([token.lemma_ if token.lemma_ not in ['-PRON-'] else '' for token in doc if token.pos_ in allowed_postags]))\n",
    "    return texts_out\n",
    "\n",
    "# Initialize spacy 'en' model, keeping only tagger component (for efficiency)\n",
    "# Run in terminal: python3 -m spacy download en\n",
    "nlp = spacy.load('en_core_web_sm', disable=['parser', 'ner'])\n",
    "\n",
    "# Do lemmatization keeping only Noun, Adj, Verb, Adverb\n",
    "data_lemmatized = lemmatization(data_words, allowed_postags=['NOUN', 'ADJ', 'VERB', 'ADV'])\n",
    "\n",
    "print(data_lemmatized[:2])"
   ]
  },
  {
   "cell_type": "code",
   "execution_count": 147,
   "metadata": {},
   "outputs": [],
   "source": [
    "vectorizer = CountVectorizer(analyzer='word',       \n",
    "                             min_df=10,                        # minimum reqd occurences of a word \n",
    "                             stop_words='english',             # remove stop words\n",
    "                             lowercase=True,                   # convert all words to lowercase\n",
    "                             token_pattern='[a-zA-Z0-9]{3,}',  # num chars > 3\n",
    "                             # max_features=50000,             # max number of uniq words\n",
    "                            )\n",
    "\n",
    "data_vectorized = vectorizer.fit_transform(data_lemmatized)"
   ]
  },
  {
   "cell_type": "code",
   "execution_count": 148,
   "metadata": {},
   "outputs": [
    {
     "name": "stdout",
     "output_type": "stream",
     "text": [
      "LatentDirichletAllocation(batch_size=128, doc_topic_prior=None,\n",
      "                          evaluate_every=-1, learning_decay=0.7,\n",
      "                          learning_method='online', learning_offset=10.0,\n",
      "                          max_doc_update_iter=100, max_iter=10,\n",
      "                          mean_change_tol=0.001, n_components=20, n_jobs=-1,\n",
      "                          perp_tol=0.1, random_state=100, topic_word_prior=None,\n",
      "                          total_samples=1000000.0, verbose=0)\n"
     ]
    }
   ],
   "source": [
    "# Build LDA Model\n",
    "lda_model = LatentDirichletAllocation(n_components=20,           # Number of topics\n",
    "                                      max_iter=10,               # Max learning iterations\n",
    "                                      learning_method='online',   \n",
    "                                      random_state=100,          # Random state\n",
    "                                      batch_size=128,            # n docs in each learning iter\n",
    "                                      evaluate_every = -1,       # compute perplexity every n iters, default: Don't\n",
    "                                      n_jobs = -1,               # Use all available CPUs\n",
    "                                     )\n",
    "lda_output = lda_model.fit_transform(data_vectorized)\n",
    "\n",
    "print(lda_model)  # Model attributes"
   ]
  },
  {
   "cell_type": "code",
   "execution_count": 149,
   "metadata": {},
   "outputs": [
    {
     "name": "stderr",
     "output_type": "stream",
     "text": [
      "//anaconda3/lib/python3.7/site-packages/sklearn/model_selection/_split.py:1978: FutureWarning: The default value of cv will change from 3 to 5 in version 0.22. Specify it explicitly to silence this warning.\n",
      "  warnings.warn(CV_WARNING, FutureWarning)\n"
     ]
    },
    {
     "data": {
      "text/plain": [
       "GridSearchCV(cv='warn', error_score='raise-deprecating',\n",
       "             estimator=LatentDirichletAllocation(batch_size=128,\n",
       "                                                 doc_topic_prior=None,\n",
       "                                                 evaluate_every=-1,\n",
       "                                                 learning_decay=0.7,\n",
       "                                                 learning_method='batch',\n",
       "                                                 learning_offset=10.0,\n",
       "                                                 max_doc_update_iter=100,\n",
       "                                                 max_iter=10,\n",
       "                                                 mean_change_tol=0.001,\n",
       "                                                 n_components=10, n_jobs=None,\n",
       "                                                 perp_tol=0.1,\n",
       "                                                 random_state=None,\n",
       "                                                 topic_word_prior=None,\n",
       "                                                 total_samples=1000000.0,\n",
       "                                                 verbose=0),\n",
       "             iid='warn', n_jobs=None,\n",
       "             param_grid={'learning_decay': [0.8, 0.9, 0.95],\n",
       "                         'n_components': [2, 3, 4, 5, 6]},\n",
       "             pre_dispatch='2*n_jobs', refit=True, return_train_score=False,\n",
       "             scoring=None, verbose=0)"
      ]
     },
     "execution_count": 149,
     "metadata": {},
     "output_type": "execute_result"
    }
   ],
   "source": [
    "# Define Search Param\n",
    "search_params = {'n_components': [2, 3, 4, 5, 6], \n",
    "                 'learning_decay': [.8, .9, .95]}\n",
    "\n",
    "# Init the Model\n",
    "lda = LatentDirichletAllocation()\n",
    "\n",
    "# Init Grid Search Class\n",
    "model = GridSearchCV(lda, param_grid=search_params)\n",
    "\n",
    "# Do the Grid Search\n",
    "model.fit(data_vectorized)"
   ]
  },
  {
   "cell_type": "code",
   "execution_count": 150,
   "metadata": {},
   "outputs": [
    {
     "name": "stdout",
     "output_type": "stream",
     "text": [
      "Best Model's Params:  {'learning_decay': 0.9, 'n_components': 2}\n",
      "Best Log Likelihood Score:  -191.85278100280397\n",
      "Model Perplexity:  6.97157320366409\n"
     ]
    }
   ],
   "source": [
    "# Best Model\n",
    "best_lda_model = model.best_estimator_\n",
    "\n",
    "# Model Parameters\n",
    "print(\"Best Model's Params: \", model.best_params_)\n",
    "\n",
    "# Log Likelihood Score\n",
    "print(\"Best Log Likelihood Score: \", model.best_score_)\n",
    "\n",
    "# Perplexity\n",
    "print(\"Model Perplexity: \", best_lda_model.perplexity(data_vectorized))"
   ]
  },
  {
   "cell_type": "code",
   "execution_count": 151,
   "metadata": {},
   "outputs": [
    {
     "data": {
      "text/html": [
       "<style  type=\"text/css\" >\n",
       "    #T_515d8ce8_220a_11ea_95f0_acde48001122row0_col0 {\n",
       "            color:  green;\n",
       "            font-weight:  700;\n",
       "        }    #T_515d8ce8_220a_11ea_95f0_acde48001122row0_col1 {\n",
       "            color:  green;\n",
       "            font-weight:  700;\n",
       "        }    #T_515d8ce8_220a_11ea_95f0_acde48001122row0_col2 {\n",
       "            color:  black;\n",
       "            font-weight:  400;\n",
       "        }    #T_515d8ce8_220a_11ea_95f0_acde48001122row1_col0 {\n",
       "            color:  green;\n",
       "            font-weight:  700;\n",
       "        }    #T_515d8ce8_220a_11ea_95f0_acde48001122row1_col1 {\n",
       "            color:  black;\n",
       "            font-weight:  400;\n",
       "        }    #T_515d8ce8_220a_11ea_95f0_acde48001122row1_col2 {\n",
       "            color:  black;\n",
       "            font-weight:  400;\n",
       "        }    #T_515d8ce8_220a_11ea_95f0_acde48001122row2_col0 {\n",
       "            color:  green;\n",
       "            font-weight:  700;\n",
       "        }    #T_515d8ce8_220a_11ea_95f0_acde48001122row2_col1 {\n",
       "            color:  black;\n",
       "            font-weight:  400;\n",
       "        }    #T_515d8ce8_220a_11ea_95f0_acde48001122row2_col2 {\n",
       "            color:  black;\n",
       "            font-weight:  400;\n",
       "        }    #T_515d8ce8_220a_11ea_95f0_acde48001122row3_col0 {\n",
       "            color:  green;\n",
       "            font-weight:  700;\n",
       "        }    #T_515d8ce8_220a_11ea_95f0_acde48001122row3_col1 {\n",
       "            color:  green;\n",
       "            font-weight:  700;\n",
       "        }    #T_515d8ce8_220a_11ea_95f0_acde48001122row3_col2 {\n",
       "            color:  black;\n",
       "            font-weight:  400;\n",
       "        }    #T_515d8ce8_220a_11ea_95f0_acde48001122row4_col0 {\n",
       "            color:  green;\n",
       "            font-weight:  700;\n",
       "        }    #T_515d8ce8_220a_11ea_95f0_acde48001122row4_col1 {\n",
       "            color:  green;\n",
       "            font-weight:  700;\n",
       "        }    #T_515d8ce8_220a_11ea_95f0_acde48001122row4_col2 {\n",
       "            color:  black;\n",
       "            font-weight:  400;\n",
       "        }    #T_515d8ce8_220a_11ea_95f0_acde48001122row5_col0 {\n",
       "            color:  black;\n",
       "            font-weight:  400;\n",
       "        }    #T_515d8ce8_220a_11ea_95f0_acde48001122row5_col1 {\n",
       "            color:  green;\n",
       "            font-weight:  700;\n",
       "        }    #T_515d8ce8_220a_11ea_95f0_acde48001122row5_col2 {\n",
       "            color:  green;\n",
       "            font-weight:  700;\n",
       "        }    #T_515d8ce8_220a_11ea_95f0_acde48001122row6_col0 {\n",
       "            color:  green;\n",
       "            font-weight:  700;\n",
       "        }    #T_515d8ce8_220a_11ea_95f0_acde48001122row6_col1 {\n",
       "            color:  green;\n",
       "            font-weight:  700;\n",
       "        }    #T_515d8ce8_220a_11ea_95f0_acde48001122row6_col2 {\n",
       "            color:  black;\n",
       "            font-weight:  400;\n",
       "        }    #T_515d8ce8_220a_11ea_95f0_acde48001122row7_col0 {\n",
       "            color:  green;\n",
       "            font-weight:  700;\n",
       "        }    #T_515d8ce8_220a_11ea_95f0_acde48001122row7_col1 {\n",
       "            color:  green;\n",
       "            font-weight:  700;\n",
       "        }    #T_515d8ce8_220a_11ea_95f0_acde48001122row7_col2 {\n",
       "            color:  black;\n",
       "            font-weight:  400;\n",
       "        }    #T_515d8ce8_220a_11ea_95f0_acde48001122row8_col0 {\n",
       "            color:  green;\n",
       "            font-weight:  700;\n",
       "        }    #T_515d8ce8_220a_11ea_95f0_acde48001122row8_col1 {\n",
       "            color:  black;\n",
       "            font-weight:  400;\n",
       "        }    #T_515d8ce8_220a_11ea_95f0_acde48001122row8_col2 {\n",
       "            color:  black;\n",
       "            font-weight:  400;\n",
       "        }    #T_515d8ce8_220a_11ea_95f0_acde48001122row9_col0 {\n",
       "            color:  green;\n",
       "            font-weight:  700;\n",
       "        }    #T_515d8ce8_220a_11ea_95f0_acde48001122row9_col1 {\n",
       "            color:  green;\n",
       "            font-weight:  700;\n",
       "        }    #T_515d8ce8_220a_11ea_95f0_acde48001122row9_col2 {\n",
       "            color:  green;\n",
       "            font-weight:  700;\n",
       "        }    #T_515d8ce8_220a_11ea_95f0_acde48001122row10_col0 {\n",
       "            color:  green;\n",
       "            font-weight:  700;\n",
       "        }    #T_515d8ce8_220a_11ea_95f0_acde48001122row10_col1 {\n",
       "            color:  green;\n",
       "            font-weight:  700;\n",
       "        }    #T_515d8ce8_220a_11ea_95f0_acde48001122row10_col2 {\n",
       "            color:  black;\n",
       "            font-weight:  400;\n",
       "        }    #T_515d8ce8_220a_11ea_95f0_acde48001122row11_col0 {\n",
       "            color:  green;\n",
       "            font-weight:  700;\n",
       "        }    #T_515d8ce8_220a_11ea_95f0_acde48001122row11_col1 {\n",
       "            color:  green;\n",
       "            font-weight:  700;\n",
       "        }    #T_515d8ce8_220a_11ea_95f0_acde48001122row11_col2 {\n",
       "            color:  black;\n",
       "            font-weight:  400;\n",
       "        }    #T_515d8ce8_220a_11ea_95f0_acde48001122row12_col0 {\n",
       "            color:  green;\n",
       "            font-weight:  700;\n",
       "        }    #T_515d8ce8_220a_11ea_95f0_acde48001122row12_col1 {\n",
       "            color:  green;\n",
       "            font-weight:  700;\n",
       "        }    #T_515d8ce8_220a_11ea_95f0_acde48001122row12_col2 {\n",
       "            color:  black;\n",
       "            font-weight:  400;\n",
       "        }    #T_515d8ce8_220a_11ea_95f0_acde48001122row13_col0 {\n",
       "            color:  green;\n",
       "            font-weight:  700;\n",
       "        }    #T_515d8ce8_220a_11ea_95f0_acde48001122row13_col1 {\n",
       "            color:  green;\n",
       "            font-weight:  700;\n",
       "        }    #T_515d8ce8_220a_11ea_95f0_acde48001122row13_col2 {\n",
       "            color:  green;\n",
       "            font-weight:  700;\n",
       "        }    #T_515d8ce8_220a_11ea_95f0_acde48001122row14_col0 {\n",
       "            color:  green;\n",
       "            font-weight:  700;\n",
       "        }    #T_515d8ce8_220a_11ea_95f0_acde48001122row14_col1 {\n",
       "            color:  green;\n",
       "            font-weight:  700;\n",
       "        }    #T_515d8ce8_220a_11ea_95f0_acde48001122row14_col2 {\n",
       "            color:  black;\n",
       "            font-weight:  400;\n",
       "        }</style><table id=\"T_515d8ce8_220a_11ea_95f0_acde48001122\" ><thead>    <tr>        <th class=\"blank level0\" ></th>        <th class=\"col_heading level0 col0\" >Topic0</th>        <th class=\"col_heading level0 col1\" >Topic1</th>        <th class=\"col_heading level0 col2\" >dominant_topic</th>    </tr></thead><tbody>\n",
       "                <tr>\n",
       "                        <th id=\"T_515d8ce8_220a_11ea_95f0_acde48001122level0_row0\" class=\"row_heading level0 row0\" >Doc0</th>\n",
       "                        <td id=\"T_515d8ce8_220a_11ea_95f0_acde48001122row0_col0\" class=\"data row0 col0\" >0.89</td>\n",
       "                        <td id=\"T_515d8ce8_220a_11ea_95f0_acde48001122row0_col1\" class=\"data row0 col1\" >0.11</td>\n",
       "                        <td id=\"T_515d8ce8_220a_11ea_95f0_acde48001122row0_col2\" class=\"data row0 col2\" >0</td>\n",
       "            </tr>\n",
       "            <tr>\n",
       "                        <th id=\"T_515d8ce8_220a_11ea_95f0_acde48001122level0_row1\" class=\"row_heading level0 row1\" >Doc1</th>\n",
       "                        <td id=\"T_515d8ce8_220a_11ea_95f0_acde48001122row1_col0\" class=\"data row1 col0\" >0.95</td>\n",
       "                        <td id=\"T_515d8ce8_220a_11ea_95f0_acde48001122row1_col1\" class=\"data row1 col1\" >0.05</td>\n",
       "                        <td id=\"T_515d8ce8_220a_11ea_95f0_acde48001122row1_col2\" class=\"data row1 col2\" >0</td>\n",
       "            </tr>\n",
       "            <tr>\n",
       "                        <th id=\"T_515d8ce8_220a_11ea_95f0_acde48001122level0_row2\" class=\"row_heading level0 row2\" >Doc2</th>\n",
       "                        <td id=\"T_515d8ce8_220a_11ea_95f0_acde48001122row2_col0\" class=\"data row2 col0\" >0.9</td>\n",
       "                        <td id=\"T_515d8ce8_220a_11ea_95f0_acde48001122row2_col1\" class=\"data row2 col1\" >0.1</td>\n",
       "                        <td id=\"T_515d8ce8_220a_11ea_95f0_acde48001122row2_col2\" class=\"data row2 col2\" >0</td>\n",
       "            </tr>\n",
       "            <tr>\n",
       "                        <th id=\"T_515d8ce8_220a_11ea_95f0_acde48001122level0_row3\" class=\"row_heading level0 row3\" >Doc3</th>\n",
       "                        <td id=\"T_515d8ce8_220a_11ea_95f0_acde48001122row3_col0\" class=\"data row3 col0\" >0.75</td>\n",
       "                        <td id=\"T_515d8ce8_220a_11ea_95f0_acde48001122row3_col1\" class=\"data row3 col1\" >0.25</td>\n",
       "                        <td id=\"T_515d8ce8_220a_11ea_95f0_acde48001122row3_col2\" class=\"data row3 col2\" >0</td>\n",
       "            </tr>\n",
       "            <tr>\n",
       "                        <th id=\"T_515d8ce8_220a_11ea_95f0_acde48001122level0_row4\" class=\"row_heading level0 row4\" >Doc4</th>\n",
       "                        <td id=\"T_515d8ce8_220a_11ea_95f0_acde48001122row4_col0\" class=\"data row4 col0\" >0.86</td>\n",
       "                        <td id=\"T_515d8ce8_220a_11ea_95f0_acde48001122row4_col1\" class=\"data row4 col1\" >0.14</td>\n",
       "                        <td id=\"T_515d8ce8_220a_11ea_95f0_acde48001122row4_col2\" class=\"data row4 col2\" >0</td>\n",
       "            </tr>\n",
       "            <tr>\n",
       "                        <th id=\"T_515d8ce8_220a_11ea_95f0_acde48001122level0_row5\" class=\"row_heading level0 row5\" >Doc5</th>\n",
       "                        <td id=\"T_515d8ce8_220a_11ea_95f0_acde48001122row5_col0\" class=\"data row5 col0\" >0.07</td>\n",
       "                        <td id=\"T_515d8ce8_220a_11ea_95f0_acde48001122row5_col1\" class=\"data row5 col1\" >0.93</td>\n",
       "                        <td id=\"T_515d8ce8_220a_11ea_95f0_acde48001122row5_col2\" class=\"data row5 col2\" >1</td>\n",
       "            </tr>\n",
       "            <tr>\n",
       "                        <th id=\"T_515d8ce8_220a_11ea_95f0_acde48001122level0_row6\" class=\"row_heading level0 row6\" >Doc6</th>\n",
       "                        <td id=\"T_515d8ce8_220a_11ea_95f0_acde48001122row6_col0\" class=\"data row6 col0\" >0.63</td>\n",
       "                        <td id=\"T_515d8ce8_220a_11ea_95f0_acde48001122row6_col1\" class=\"data row6 col1\" >0.37</td>\n",
       "                        <td id=\"T_515d8ce8_220a_11ea_95f0_acde48001122row6_col2\" class=\"data row6 col2\" >0</td>\n",
       "            </tr>\n",
       "            <tr>\n",
       "                        <th id=\"T_515d8ce8_220a_11ea_95f0_acde48001122level0_row7\" class=\"row_heading level0 row7\" >Doc7</th>\n",
       "                        <td id=\"T_515d8ce8_220a_11ea_95f0_acde48001122row7_col0\" class=\"data row7 col0\" >0.86</td>\n",
       "                        <td id=\"T_515d8ce8_220a_11ea_95f0_acde48001122row7_col1\" class=\"data row7 col1\" >0.14</td>\n",
       "                        <td id=\"T_515d8ce8_220a_11ea_95f0_acde48001122row7_col2\" class=\"data row7 col2\" >0</td>\n",
       "            </tr>\n",
       "            <tr>\n",
       "                        <th id=\"T_515d8ce8_220a_11ea_95f0_acde48001122level0_row8\" class=\"row_heading level0 row8\" >Doc8</th>\n",
       "                        <td id=\"T_515d8ce8_220a_11ea_95f0_acde48001122row8_col0\" class=\"data row8 col0\" >0.92</td>\n",
       "                        <td id=\"T_515d8ce8_220a_11ea_95f0_acde48001122row8_col1\" class=\"data row8 col1\" >0.08</td>\n",
       "                        <td id=\"T_515d8ce8_220a_11ea_95f0_acde48001122row8_col2\" class=\"data row8 col2\" >0</td>\n",
       "            </tr>\n",
       "            <tr>\n",
       "                        <th id=\"T_515d8ce8_220a_11ea_95f0_acde48001122level0_row9\" class=\"row_heading level0 row9\" >Doc9</th>\n",
       "                        <td id=\"T_515d8ce8_220a_11ea_95f0_acde48001122row9_col0\" class=\"data row9 col0\" >0.31</td>\n",
       "                        <td id=\"T_515d8ce8_220a_11ea_95f0_acde48001122row9_col1\" class=\"data row9 col1\" >0.69</td>\n",
       "                        <td id=\"T_515d8ce8_220a_11ea_95f0_acde48001122row9_col2\" class=\"data row9 col2\" >1</td>\n",
       "            </tr>\n",
       "            <tr>\n",
       "                        <th id=\"T_515d8ce8_220a_11ea_95f0_acde48001122level0_row10\" class=\"row_heading level0 row10\" >Doc10</th>\n",
       "                        <td id=\"T_515d8ce8_220a_11ea_95f0_acde48001122row10_col0\" class=\"data row10 col0\" >0.62</td>\n",
       "                        <td id=\"T_515d8ce8_220a_11ea_95f0_acde48001122row10_col1\" class=\"data row10 col1\" >0.38</td>\n",
       "                        <td id=\"T_515d8ce8_220a_11ea_95f0_acde48001122row10_col2\" class=\"data row10 col2\" >0</td>\n",
       "            </tr>\n",
       "            <tr>\n",
       "                        <th id=\"T_515d8ce8_220a_11ea_95f0_acde48001122level0_row11\" class=\"row_heading level0 row11\" >Doc11</th>\n",
       "                        <td id=\"T_515d8ce8_220a_11ea_95f0_acde48001122row11_col0\" class=\"data row11 col0\" >0.57</td>\n",
       "                        <td id=\"T_515d8ce8_220a_11ea_95f0_acde48001122row11_col1\" class=\"data row11 col1\" >0.43</td>\n",
       "                        <td id=\"T_515d8ce8_220a_11ea_95f0_acde48001122row11_col2\" class=\"data row11 col2\" >0</td>\n",
       "            </tr>\n",
       "            <tr>\n",
       "                        <th id=\"T_515d8ce8_220a_11ea_95f0_acde48001122level0_row12\" class=\"row_heading level0 row12\" >Doc12</th>\n",
       "                        <td id=\"T_515d8ce8_220a_11ea_95f0_acde48001122row12_col0\" class=\"data row12 col0\" >0.82</td>\n",
       "                        <td id=\"T_515d8ce8_220a_11ea_95f0_acde48001122row12_col1\" class=\"data row12 col1\" >0.18</td>\n",
       "                        <td id=\"T_515d8ce8_220a_11ea_95f0_acde48001122row12_col2\" class=\"data row12 col2\" >0</td>\n",
       "            </tr>\n",
       "            <tr>\n",
       "                        <th id=\"T_515d8ce8_220a_11ea_95f0_acde48001122level0_row13\" class=\"row_heading level0 row13\" >Doc13</th>\n",
       "                        <td id=\"T_515d8ce8_220a_11ea_95f0_acde48001122row13_col0\" class=\"data row13 col0\" >0.27</td>\n",
       "                        <td id=\"T_515d8ce8_220a_11ea_95f0_acde48001122row13_col1\" class=\"data row13 col1\" >0.73</td>\n",
       "                        <td id=\"T_515d8ce8_220a_11ea_95f0_acde48001122row13_col2\" class=\"data row13 col2\" >1</td>\n",
       "            </tr>\n",
       "            <tr>\n",
       "                        <th id=\"T_515d8ce8_220a_11ea_95f0_acde48001122level0_row14\" class=\"row_heading level0 row14\" >Doc14</th>\n",
       "                        <td id=\"T_515d8ce8_220a_11ea_95f0_acde48001122row14_col0\" class=\"data row14 col0\" >0.86</td>\n",
       "                        <td id=\"T_515d8ce8_220a_11ea_95f0_acde48001122row14_col1\" class=\"data row14 col1\" >0.14</td>\n",
       "                        <td id=\"T_515d8ce8_220a_11ea_95f0_acde48001122row14_col2\" class=\"data row14 col2\" >0</td>\n",
       "            </tr>\n",
       "    </tbody></table>"
      ],
      "text/plain": [
       "<pandas.io.formats.style.Styler at 0x1a2f7253c8>"
      ]
     },
     "execution_count": 151,
     "metadata": {},
     "output_type": "execute_result"
    }
   ],
   "source": [
    "# Create Document - Topic Matrix\n",
    "lda_output = best_lda_model.transform(data_vectorized)\n",
    "\n",
    "# column names\n",
    "topicnames = [\"Topic\" + str(i) for i in range(best_lda_model.n_components)]\n",
    "\n",
    "# index names\n",
    "docnames = [\"Doc\" + str(i) for i in range(len(lyrics))]\n",
    "\n",
    "# Make the pandas dataframe\n",
    "df_document_topic = pd.DataFrame(np.round(lda_output, 2), columns=topicnames, index=docnames)\n",
    "\n",
    "# Get dominant topic for each document\n",
    "dominant_topic = np.argmax(df_document_topic.values, axis=1)\n",
    "df_document_topic['dominant_topic'] = dominant_topic\n",
    "\n",
    "# Styling\n",
    "def color_green(val):\n",
    "    color = 'green' if val > .1 else 'black'\n",
    "    return 'color: {col}'.format(col=color)\n",
    "\n",
    "def make_bold(val):\n",
    "    weight = 700 if val > .1 else 400\n",
    "    return 'font-weight: {weight}'.format(weight=weight)\n",
    "\n",
    "# Apply Style\n",
    "df_document_topics = df_document_topic.head(15).style.applymap(color_green).applymap(make_bold)\n",
    "df_document_topics"
   ]
  },
  {
   "cell_type": "code",
   "execution_count": 152,
   "metadata": {},
   "outputs": [
    {
     "data": {
      "text/html": [
       "<div>\n",
       "<style scoped>\n",
       "    .dataframe tbody tr th:only-of-type {\n",
       "        vertical-align: middle;\n",
       "    }\n",
       "\n",
       "    .dataframe tbody tr th {\n",
       "        vertical-align: top;\n",
       "    }\n",
       "\n",
       "    .dataframe thead th {\n",
       "        text-align: right;\n",
       "    }\n",
       "</style>\n",
       "<table border=\"1\" class=\"dataframe\">\n",
       "  <thead>\n",
       "    <tr style=\"text-align: right;\">\n",
       "      <th></th>\n",
       "      <th>Topic Num</th>\n",
       "      <th>Num Documents</th>\n",
       "    </tr>\n",
       "  </thead>\n",
       "  <tbody>\n",
       "    <tr>\n",
       "      <td>0</td>\n",
       "      <td>0</td>\n",
       "      <td>17</td>\n",
       "    </tr>\n",
       "    <tr>\n",
       "      <td>1</td>\n",
       "      <td>1</td>\n",
       "      <td>4</td>\n",
       "    </tr>\n",
       "  </tbody>\n",
       "</table>\n",
       "</div>"
      ],
      "text/plain": [
       "   Topic Num  Num Documents\n",
       "0          0             17\n",
       "1          1              4"
      ]
     },
     "execution_count": 152,
     "metadata": {},
     "output_type": "execute_result"
    }
   ],
   "source": [
    "df_topic_distribution = df_document_topic['dominant_topic'].value_counts().reset_index(name=\"Num Documents\")\n",
    "df_topic_distribution.columns = ['Topic Num', 'Num Documents']\n",
    "df_topic_distribution"
   ]
  },
  {
   "cell_type": "code",
   "execution_count": 153,
   "metadata": {},
   "outputs": [
    {
     "name": "stderr",
     "output_type": "stream",
     "text": [
      "//anaconda3/lib/python3.7/site-packages/pyLDAvis/_prepare.py:257: FutureWarning: Sorting because non-concatenation axis is not aligned. A future version\n",
      "of pandas will change to not sort by default.\n",
      "\n",
      "To accept the future behavior, pass 'sort=False'.\n",
      "\n",
      "To retain the current behavior and silence the warning, pass 'sort=True'.\n",
      "\n",
      "  return pd.concat([default_term_info] + list(topic_dfs))\n"
     ]
    },
    {
     "data": {
      "text/html": [
       "\n",
       "<link rel=\"stylesheet\" type=\"text/css\" href=\"https://cdn.rawgit.com/bmabey/pyLDAvis/files/ldavis.v1.0.0.css\">\n",
       "\n",
       "\n",
       "<div id=\"ldavis_el80421123979514083451315837\"></div>\n",
       "<script type=\"text/javascript\">\n",
       "\n",
       "var ldavis_el80421123979514083451315837_data = {\"mdsDat\": {\"x\": [-60.31231689453125, 60.31256103515625], \"y\": [141.36962890625, -141.369140625], \"topics\": [1, 2], \"cluster\": [1, 1], \"Freq\": [53.65719459379795, 46.34280540620204]}, \"tinfo\": {\"Category\": [\"Default\", \"Default\", \"Default\", \"Default\", \"Default\", \"Default\", \"Default\", \"Default\", \"Topic1\", \"Topic1\", \"Topic1\", \"Topic1\", \"Topic1\", \"Topic1\", \"Topic1\", \"Topic1\", \"Topic2\", \"Topic2\", \"Topic2\", \"Topic2\", \"Topic2\", \"Topic2\", \"Topic2\", \"Topic2\"], \"Freq\": [60.0, 23.0, 41.0, 29.0, 35.0, 17.0, 20.0, 14.0, 23.006886551718146, 17.37108112372629, 27.25305908338287, 31.450415716660153, 13.131646891175606, 8.372075045359356, 8.42345346964132, 0.8417930353273124, 59.209486946500164, 33.10313433433281, 6.110150353375261, 7.05175508951358, 3.570335039002507, 2.0299649806754463, 0.5331779540196803, 0.5415843855895048], \"Term\": [\"say\", \"know\", \"win\", \"love\", \"leave\", \"sleep\", \"tell\", \"man\", \"know\", \"sleep\", \"love\", \"leave\", \"tell\", \"man\", \"win\", \"say\", \"say\", \"win\", \"man\", \"tell\", \"leave\", \"love\", \"sleep\", \"know\"], \"Total\": [60.0, 23.0, 41.0, 29.0, 35.0, 17.0, 20.0, 14.0, 23.548470937307652, 17.904259077745973, 29.283024064058317, 35.02075075566266, 20.183401980689187, 14.482225398734617, 41.526587803974124, 60.05127998182748, 60.05127998182748, 41.526587803974124, 14.482225398734617, 20.183401980689187, 35.02075075566266, 29.283024064058317, 17.904259077745973, 23.548470937307652], \"loglift\": [8.0, 7.0, 6.0, 5.0, 4.0, 3.0, 2.0, 1.0, 0.5993, 0.5923, 0.5507, 0.515, 0.1927, 0.0745, -0.9728, -3.6449, 0.755, 0.5424, -0.0939, -0.2825, -1.5142, -1.8999, -2.7448, -3.0032], \"logprob\": [8.0, 7.0, 6.0, 5.0, 4.0, 3.0, 2.0, 1.0, -1.7306, -2.0116, -1.5612, -1.418, -2.2914, -2.7415, -2.7354, -5.0386, -0.6388, -1.2202, -2.9099, -2.7666, -3.4472, -4.0118, -5.3487, -5.3331]}, \"token.table\": {\"Topic\": [1, 2, 1, 2, 1, 2, 1, 2, 1, 2, 1, 2, 1, 2, 1, 2], \"Freq\": [0.9767088513403767, 0.04246560223219029, 0.8851894756992744, 0.11421799686442251, 0.9220359188632954, 0.06829895695283669, 0.5524012905294927, 0.41430096789711957, 0.016652434391117337, 0.9824936290759229, 0.9494947501698119, 0.055852632362930116, 0.6440935979196158, 0.34681962964902396, 0.19264766076528914, 0.7946716006568176], \"Term\": [\"know\", \"know\", \"leave\", \"leave\", \"love\", \"love\", \"man\", \"man\", \"say\", \"say\", \"sleep\", \"sleep\", \"tell\", \"tell\", \"win\", \"win\"]}, \"R\": 8, \"lambda.step\": 0.01, \"plot.opts\": {\"xlab\": \"PC1\", \"ylab\": \"PC2\"}, \"topic.order\": [1, 2]};\n",
       "\n",
       "function LDAvis_load_lib(url, callback){\n",
       "  var s = document.createElement('script');\n",
       "  s.src = url;\n",
       "  s.async = true;\n",
       "  s.onreadystatechange = s.onload = callback;\n",
       "  s.onerror = function(){console.warn(\"failed to load library \" + url);};\n",
       "  document.getElementsByTagName(\"head\")[0].appendChild(s);\n",
       "}\n",
       "\n",
       "if(typeof(LDAvis) !== \"undefined\"){\n",
       "   // already loaded: just create the visualization\n",
       "   !function(LDAvis){\n",
       "       new LDAvis(\"#\" + \"ldavis_el80421123979514083451315837\", ldavis_el80421123979514083451315837_data);\n",
       "   }(LDAvis);\n",
       "}else if(typeof define === \"function\" && define.amd){\n",
       "   // require.js is available: use it to load d3/LDAvis\n",
       "   require.config({paths: {d3: \"https://cdnjs.cloudflare.com/ajax/libs/d3/3.5.5/d3.min\"}});\n",
       "   require([\"d3\"], function(d3){\n",
       "      window.d3 = d3;\n",
       "      LDAvis_load_lib(\"https://cdn.rawgit.com/bmabey/pyLDAvis/files/ldavis.v1.0.0.js\", function(){\n",
       "        new LDAvis(\"#\" + \"ldavis_el80421123979514083451315837\", ldavis_el80421123979514083451315837_data);\n",
       "      });\n",
       "    });\n",
       "}else{\n",
       "    // require.js not available: dynamically load d3 & LDAvis\n",
       "    LDAvis_load_lib(\"https://cdnjs.cloudflare.com/ajax/libs/d3/3.5.5/d3.min.js\", function(){\n",
       "         LDAvis_load_lib(\"https://cdn.rawgit.com/bmabey/pyLDAvis/files/ldavis.v1.0.0.js\", function(){\n",
       "                 new LDAvis(\"#\" + \"ldavis_el80421123979514083451315837\", ldavis_el80421123979514083451315837_data);\n",
       "            })\n",
       "         });\n",
       "}\n",
       "</script>"
      ],
      "text/plain": [
       "PreparedData(topic_coordinates=               x           y  topics  cluster       Freq\n",
       "topic                                                   \n",
       "0     -60.312317  141.369629       1        1  53.657195\n",
       "1      60.312561 -141.369141       2        1  46.342805, topic_info=  Category       Freq   Term      Total  loglift  logprob\n",
       "4  Default  60.000000    say  60.000000   8.0000   8.0000\n",
       "0  Default  23.000000   know  23.000000   7.0000   7.0000\n",
       "7  Default  41.000000    win  41.000000   6.0000   6.0000\n",
       "2  Default  29.000000   love  29.000000   5.0000   5.0000\n",
       "1  Default  35.000000  leave  35.000000   4.0000   4.0000\n",
       "5  Default  17.000000  sleep  17.000000   3.0000   3.0000\n",
       "6  Default  20.000000   tell  20.000000   2.0000   2.0000\n",
       "3  Default  14.000000    man  14.000000   1.0000   1.0000\n",
       "0   Topic1  23.006887   know  23.548471   0.5993  -1.7306\n",
       "5   Topic1  17.371081  sleep  17.904259   0.5923  -2.0116\n",
       "2   Topic1  27.253059   love  29.283024   0.5507  -1.5612\n",
       "1   Topic1  31.450416  leave  35.020751   0.5150  -1.4180\n",
       "6   Topic1  13.131647   tell  20.183402   0.1927  -2.2914\n",
       "3   Topic1   8.372075    man  14.482225   0.0745  -2.7415\n",
       "7   Topic1   8.423453    win  41.526588  -0.9728  -2.7354\n",
       "4   Topic1   0.841793    say  60.051280  -3.6449  -5.0386\n",
       "4   Topic2  59.209487    say  60.051280   0.7550  -0.6388\n",
       "7   Topic2  33.103134    win  41.526588   0.5424  -1.2202\n",
       "3   Topic2   6.110150    man  14.482225  -0.0939  -2.9099\n",
       "6   Topic2   7.051755   tell  20.183402  -0.2825  -2.7666\n",
       "1   Topic2   3.570335  leave  35.020751  -1.5142  -3.4472\n",
       "2   Topic2   2.029965   love  29.283024  -1.8999  -4.0118\n",
       "5   Topic2   0.533178  sleep  17.904259  -2.7448  -5.3487\n",
       "0   Topic2   0.541584   know  23.548471  -3.0032  -5.3331, token_table=      Topic      Freq   Term\n",
       "term                        \n",
       "0         1  0.976709   know\n",
       "0         2  0.042466   know\n",
       "1         1  0.885189  leave\n",
       "1         2  0.114218  leave\n",
       "2         1  0.922036   love\n",
       "2         2  0.068299   love\n",
       "3         1  0.552401    man\n",
       "3         2  0.414301    man\n",
       "4         1  0.016652    say\n",
       "4         2  0.982494    say\n",
       "5         1  0.949495  sleep\n",
       "5         2  0.055853  sleep\n",
       "6         1  0.644094   tell\n",
       "6         2  0.346820   tell\n",
       "7         1  0.192648    win\n",
       "7         2  0.794672    win, R=8, lambda_step=0.01, plot_opts={'xlab': 'PC1', 'ylab': 'PC2'}, topic_order=[1, 2])"
      ]
     },
     "execution_count": 153,
     "metadata": {},
     "output_type": "execute_result"
    }
   ],
   "source": [
    "pyLDAvis.enable_notebook()\n",
    "panel = pyLDAvis.sklearn.prepare(best_lda_model, data_vectorized, vectorizer, mds='tsne')\n",
    "panel\n"
   ]
  },
  {
   "cell_type": "code",
   "execution_count": 168,
   "metadata": {},
   "outputs": [],
   "source": [
    "pyLDAvis.save_html(panel,'/Users/schlinkertc/code/NLP_practice/topics.htm')"
   ]
  },
  {
   "cell_type": "code",
   "execution_count": 169,
   "metadata": {},
   "outputs": [],
   "source": [
    "df_document_topic['Song'] = hrefs"
   ]
  },
  {
   "cell_type": "code",
   "execution_count": 170,
   "metadata": {},
   "outputs": [],
   "source": [
    "song_topics = df_document_topic.reset_index()"
   ]
  },
  {
   "cell_type": "code",
   "execution_count": 171,
   "metadata": {},
   "outputs": [],
   "source": [
    "song_topics['Topic'] = song_topics['dominant_topic'].map({0:1,1:2})"
   ]
  },
  {
   "cell_type": "code",
   "execution_count": 172,
   "metadata": {},
   "outputs": [],
   "source": [
    "song_topics.drop(columns={'Topic0','Topic1','index','dominant_topic'},inplace=True)"
   ]
  },
  {
   "cell_type": "code",
   "execution_count": 179,
   "metadata": {},
   "outputs": [
    {
     "data": {
      "text/html": [
       "<div>\n",
       "<style scoped>\n",
       "    .dataframe tbody tr th:only-of-type {\n",
       "        vertical-align: middle;\n",
       "    }\n",
       "\n",
       "    .dataframe tbody tr th {\n",
       "        vertical-align: top;\n",
       "    }\n",
       "\n",
       "    .dataframe thead th {\n",
       "        text-align: right;\n",
       "    }\n",
       "</style>\n",
       "<table border=\"1\" class=\"dataframe\">\n",
       "  <thead>\n",
       "    <tr style=\"text-align: right;\">\n",
       "      <th></th>\n",
       "      <th></th>\n",
       "    </tr>\n",
       "    <tr>\n",
       "      <th>Topic</th>\n",
       "      <th>Song</th>\n",
       "    </tr>\n",
       "  </thead>\n",
       "  <tbody>\n",
       "    <tr>\n",
       "      <td rowspan=\"17\" valign=\"top\">1</td>\n",
       "      <td>Be-My-Own-Bonus-Track</td>\n",
       "    </tr>\n",
       "    <tr>\n",
       "      <td>Chastain</td>\n",
       "    </tr>\n",
       "    <tr>\n",
       "      <td>Cut-The-Rope</td>\n",
       "    </tr>\n",
       "    <tr>\n",
       "      <td>Deirdre-Pt-I</td>\n",
       "    </tr>\n",
       "    <tr>\n",
       "      <td>Don-t-Let-Me</td>\n",
       "    </tr>\n",
       "    <tr>\n",
       "      <td>Don-t-Say-Nothing</td>\n",
       "    </tr>\n",
       "    <tr>\n",
       "      <td>High-Tops</td>\n",
       "    </tr>\n",
       "    <tr>\n",
       "      <td>Homeless</td>\n",
       "    </tr>\n",
       "    <tr>\n",
       "      <td>In-The-Yard</td>\n",
       "    </tr>\n",
       "    <tr>\n",
       "      <td>Laid-Down-My-Arms</td>\n",
       "    </tr>\n",
       "    <tr>\n",
       "      <td>Lamplight</td>\n",
       "    </tr>\n",
       "    <tr>\n",
       "      <td>Lost-My-Cat-Put-in-a-Cage</td>\n",
       "    </tr>\n",
       "    <tr>\n",
       "      <td>Love-Song-For-Lady-Earth-Sasha</td>\n",
       "    </tr>\n",
       "    <tr>\n",
       "      <td>Still-in-Love</td>\n",
       "    </tr>\n",
       "    <tr>\n",
       "      <td>Theory-of-Emotion</td>\n",
       "    </tr>\n",
       "    <tr>\n",
       "      <td>To-Philly</td>\n",
       "    </tr>\n",
       "    <tr>\n",
       "      <td>Vanessa</td>\n",
       "    </tr>\n",
       "    <tr>\n",
       "      <td rowspan=\"4\" valign=\"top\">2</td>\n",
       "      <td>Don-t-Read-The-Mirror</td>\n",
       "    </tr>\n",
       "    <tr>\n",
       "      <td>I-Am-Drunk-And-She-Is-Insane</td>\n",
       "    </tr>\n",
       "    <tr>\n",
       "      <td>Let-s-Pretend</td>\n",
       "    </tr>\n",
       "    <tr>\n",
       "      <td>Rockman-s-Pier</td>\n",
       "    </tr>\n",
       "  </tbody>\n",
       "</table>\n",
       "</div>"
      ],
      "text/plain": [
       "Empty DataFrame\n",
       "Columns: []\n",
       "Index: [(1, Be-My-Own-Bonus-Track), (1, Chastain), (1, Cut-The-Rope), (1, Deirdre-Pt-I), (1, Don-t-Let-Me), (1, Don-t-Say-Nothing), (1, High-Tops), (1, Homeless), (1, In-The-Yard), (1, Laid-Down-My-Arms), (1, Lamplight), (1, Lost-My-Cat-Put-in-a-Cage), (1, Love-Song-For-Lady-Earth-Sasha), (1, Still-in-Love), (1, Theory-of-Emotion), (1, To-Philly), (1, Vanessa), (2, Don-t-Read-The-Mirror), (2, I-Am-Drunk-And-She-Is-Insane), (2, Let-s-Pretend), (2, Rockman-s-Pier)]"
      ]
     },
     "execution_count": 179,
     "metadata": {},
     "output_type": "execute_result"
    }
   ],
   "source": [
    "song_topics.set_index(['Topic','Song']).sort_index()"
   ]
  },
  {
   "cell_type": "code",
   "execution_count": null,
   "metadata": {},
   "outputs": [],
   "source": []
  }
 ],
 "metadata": {
  "kernelspec": {
   "display_name": "Python 3",
   "language": "python",
   "name": "python3"
  },
  "language_info": {
   "codemirror_mode": {
    "name": "ipython",
    "version": 3
   },
   "file_extension": ".py",
   "mimetype": "text/x-python",
   "name": "python",
   "nbconvert_exporter": "python",
   "pygments_lexer": "ipython3",
   "version": "3.7.3"
  }
 },
 "nbformat": 4,
 "nbformat_minor": 2
}
